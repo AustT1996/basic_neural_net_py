{
 "cells": [
  {
   "cell_type": "code",
   "execution_count": 1,
   "metadata": {},
   "outputs": [],
   "source": [
    "import numpy as np\n",
    "import NeuralNet"
   ]
  },
  {
   "cell_type": "code",
   "execution_count": 2,
   "metadata": {},
   "outputs": [],
   "source": [
    "np.random.seed(0)"
   ]
  },
  {
   "cell_type": "code",
   "execution_count": 3,
   "metadata": {},
   "outputs": [],
   "source": [
    "# Learn to map 3 inputs to 0 all the time\n",
    "nn1 = NeuralNet.NeuralNet(3, [1], [\"linear\"])"
   ]
  },
  {
   "cell_type": "code",
   "execution_count": 4,
   "metadata": {},
   "outputs": [
    {
     "data": {
      "text/plain": [
       "[array([[ 1.76405235,  0.40015721,  0.97873798]])]"
      ]
     },
     "execution_count": 4,
     "metadata": {},
     "output_type": "execute_result"
    }
   ],
   "source": [
    "nn1.layers"
   ]
  },
  {
   "cell_type": "code",
   "execution_count": 5,
   "metadata": {},
   "outputs": [
    {
     "data": {
      "text/plain": [
       "[array([[ 1.]])]"
      ]
     },
     "execution_count": 5,
     "metadata": {},
     "output_type": "execute_result"
    }
   ],
   "source": [
    "nn1.biases"
   ]
  },
  {
   "cell_type": "code",
   "execution_count": 6,
   "metadata": {},
   "outputs": [
    {
     "data": {
      "text/plain": [
       "array([[ 1.]])"
      ]
     },
     "execution_count": 6,
     "metadata": {},
     "output_type": "execute_result"
    }
   ],
   "source": [
    "nn1.eval(np.array([0., 0., 0.]))"
   ]
  },
  {
   "cell_type": "code",
   "execution_count": 7,
   "metadata": {},
   "outputs": [
    {
     "data": {
      "text/plain": [
       "array([[ 4.14294754]])"
      ]
     },
     "execution_count": 7,
     "metadata": {},
     "output_type": "execute_result"
    }
   ],
   "source": [
    "nn1.eval(np.array([1., 1., 1.]))"
   ]
  },
  {
   "cell_type": "code",
   "execution_count": 8,
   "metadata": {},
   "outputs": [
    {
     "data": {
      "text/plain": [
       "array([[ 4.14294754]])"
      ]
     },
     "execution_count": 8,
     "metadata": {},
     "output_type": "execute_result"
    }
   ],
   "source": [
    "eval1 = np.sum(nn1.layers[0]) + nn1.biases[0]\n",
    "eval1"
   ]
  },
  {
   "cell_type": "markdown",
   "metadata": {},
   "source": [
    "## Evaluation seems to be good"
   ]
  },
  {
   "cell_type": "code",
   "execution_count": 9,
   "metadata": {},
   "outputs": [
    {
     "data": {
      "text/plain": [
       "(8.5820071531356241, array([[ 1.],\n",
       "        [ 1.],\n",
       "        [ 1.]]), array([[0]]), [array([[ 4.14294754]])])"
      ]
     },
     "execution_count": 9,
     "metadata": {},
     "output_type": "execute_result"
    }
   ],
   "source": [
    "args = nn1.eval_sup(np.array([1., 1., 1.]).reshape(-1, 1), \n",
    "                    np.array([0]).reshape(-1, 1))\n",
    "args"
   ]
  },
  {
   "cell_type": "code",
   "execution_count": 10,
   "metadata": {},
   "outputs": [
    {
     "data": {
      "text/plain": [
       "array([[ 8.58200715]])"
      ]
     },
     "execution_count": 10,
     "metadata": {},
     "output_type": "execute_result"
    }
   ],
   "source": [
    "eval1**2 / 2"
   ]
  },
  {
   "cell_type": "code",
   "execution_count": 11,
   "metadata": {
    "scrolled": true
   },
   "outputs": [
    {
     "data": {
      "text/plain": [
       "([array([[ 4.14294754,  4.14294754,  4.14294754]])], [array([[ 4.14294754]])])"
      ]
     },
     "execution_count": 11,
     "metadata": {},
     "output_type": "execute_result"
    }
   ],
   "source": [
    "nn1.gradient_backprop(*args[1:])"
   ]
  },
  {
   "cell_type": "code",
   "execution_count": 12,
   "metadata": {},
   "outputs": [
    {
     "data": {
      "text/plain": [
       "(3.8199926856246731, array([[ 1.],\n",
       "        [ 0.],\n",
       "        [ 0.]]), array([[0]]), [array([[ 2.76405235]])])"
      ]
     },
     "execution_count": 12,
     "metadata": {},
     "output_type": "execute_result"
    }
   ],
   "source": [
    "args = nn1.eval_sup(np.array([1., 0, 0]).reshape(-1, 1), \n",
    "                    np.array([0]).reshape(-1, 1))\n",
    "args"
   ]
  },
  {
   "cell_type": "code",
   "execution_count": 13,
   "metadata": {},
   "outputs": [
    {
     "data": {
      "text/plain": [
       "array([[ 8.58200715]])"
      ]
     },
     "execution_count": 13,
     "metadata": {},
     "output_type": "execute_result"
    }
   ],
   "source": [
    "eval1**2 / 2"
   ]
  },
  {
   "cell_type": "code",
   "execution_count": 14,
   "metadata": {
    "scrolled": true
   },
   "outputs": [
    {
     "data": {
      "text/plain": [
       "([array([[ 2.76405235,  0.        ,  0.        ]])], [array([[ 2.76405235]])])"
      ]
     },
     "execution_count": 14,
     "metadata": {},
     "output_type": "execute_result"
    }
   ],
   "source": [
    "nn1.gradient_backprop(*args[1:])"
   ]
  },
  {
   "cell_type": "code",
   "execution_count": 15,
   "metadata": {},
   "outputs": [
    {
     "data": {
      "text/plain": [
       "array([[ 0.22434035, -0.66186049, -0.12788196, ..., -0.57118306,\n",
       "         0.67756401, -0.79464301],\n",
       "       [ 0.0410711 ,  0.56544252,  0.61709815, ..., -0.88916184,\n",
       "        -0.43158538, -0.94396556],\n",
       "       [ 0.58664042, -0.86502052,  0.79083285, ...,  0.14630958,\n",
       "         0.73043918, -0.59853204]])"
      ]
     },
     "execution_count": 15,
     "metadata": {},
     "output_type": "execute_result"
    }
   ],
   "source": [
    "np.random.seed(111)\n",
    "training_data = np.random.random((3, 1000)) * 2 - 1\n",
    "training_data"
   ]
  },
  {
   "cell_type": "code",
   "execution_count": 16,
   "metadata": {
    "scrolled": true
   },
   "outputs": [],
   "source": [
    "training_out = np.zeros((1, 1000))"
   ]
  },
  {
   "cell_type": "code",
   "execution_count": 37,
   "metadata": {},
   "outputs": [],
   "source": [
    "for i in range(250):\n",
    "    nn1.train_step(training_data, training_out, learning_rate=0.01)"
   ]
  },
  {
   "cell_type": "code",
   "execution_count": 38,
   "metadata": {},
   "outputs": [
    {
     "data": {
      "text/plain": [
       "[array([[ 0.00109731,  0.0001849 ,  0.00085903]])]"
      ]
     },
     "execution_count": 38,
     "metadata": {},
     "output_type": "execute_result"
    }
   ],
   "source": [
    "nn1.layers"
   ]
  },
  {
   "cell_type": "code",
   "execution_count": 39,
   "metadata": {},
   "outputs": [
    {
     "data": {
      "text/plain": [
       "[array([[  2.44468947e-06]])]"
      ]
     },
     "execution_count": 39,
     "metadata": {},
     "output_type": "execute_result"
    }
   ],
   "source": [
    "nn1.biases"
   ]
  },
  {
   "cell_type": "code",
   "execution_count": 40,
   "metadata": {},
   "outputs": [
    {
     "data": {
      "text/plain": [
       "array([[ 0.00214369]])"
      ]
     },
     "execution_count": 40,
     "metadata": {},
     "output_type": "execute_result"
    }
   ],
   "source": [
    "nn1.eval(np.array([1., 1., 1.]))"
   ]
  },
  {
   "cell_type": "markdown",
   "metadata": {},
   "source": [
    "# It seemed to learn this function\n",
    "# Try a new function (always output 2 0s given 4 inputs)"
   ]
  },
  {
   "cell_type": "code",
   "execution_count": 61,
   "metadata": {},
   "outputs": [],
   "source": [
    "np.random.seed(444)\n",
    "nn2 = NeuralNet.NeuralNet(4, [2], [\"linear\"])"
   ]
  },
  {
   "cell_type": "code",
   "execution_count": 62,
   "metadata": {},
   "outputs": [
    {
     "data": {
      "text/plain": [
       "[array([[ 0.35743992,  0.3775384 ,  1.38233789,  1.17554883],\n",
       "        [-0.9392757 , -1.14315015, -0.54243951, -0.54870808]])]"
      ]
     },
     "execution_count": 62,
     "metadata": {},
     "output_type": "execute_result"
    }
   ],
   "source": [
    "nn2.layers"
   ]
  },
  {
   "cell_type": "code",
   "execution_count": 63,
   "metadata": {},
   "outputs": [
    {
     "data": {
      "text/plain": [
       "[array([[ 1.],\n",
       "        [ 1.]])]"
      ]
     },
     "execution_count": 63,
     "metadata": {},
     "output_type": "execute_result"
    }
   ],
   "source": [
    "nn2.biases"
   ]
  },
  {
   "cell_type": "code",
   "execution_count": 64,
   "metadata": {},
   "outputs": [
    {
     "data": {
      "text/plain": [
       "array([[ 0.22434035, -0.66186049, -0.12788196, ...,  0.87379029,\n",
       "         0.3475741 ,  0.18885069],\n",
       "       [-0.3099828 , -0.83286814,  0.15868007, ...,  0.19688836,\n",
       "        -0.3889808 ,  0.70714174],\n",
       "       [ 0.49267945, -0.41075351,  0.68135561, ..., -0.64920452,\n",
       "        -0.60310764,  0.2384976 ],\n",
       "       [-0.05291177, -0.09005287,  0.68010314, ..., -0.53248495,\n",
       "        -0.34262201, -0.10168198]])"
      ]
     },
     "execution_count": 64,
     "metadata": {},
     "output_type": "execute_result"
    }
   ],
   "source": [
    "np.random.seed(111)\n",
    "training_data = np.random.random((4, 256)) * 2 - 1\n",
    "training_data"
   ]
  },
  {
   "cell_type": "code",
   "execution_count": 65,
   "metadata": {
    "scrolled": true
   },
   "outputs": [],
   "source": [
    "training_out = np.zeros((2, 256))"
   ]
  },
  {
   "cell_type": "code",
   "execution_count": 68,
   "metadata": {},
   "outputs": [
    {
     "name": "stdout",
     "output_type": "stream",
     "text": [
      "0: 2.0649263201947026\n",
      "100: 0.663344226323955\n",
      "200: 0.2921814500950592\n",
      "300: 0.14645276495467485\n",
      "400: 0.07659107676438395\n",
      "500: 0.04068462825575084\n",
      "600: 0.021785094960438116\n",
      "700: 0.011730838660983595\n",
      "800: 0.006345885636441964\n",
      "900: 0.0034464027150222514\n",
      "1000: 0.0018781292598433602\n"
     ]
    }
   ],
   "source": [
    "for i in range(1001):\n",
    "    e = nn2.train_step(training_data, training_out, learning_rate=1e-2)\n",
    "    \n",
    "    if i % 100 == 0:\n",
    "        print(f\"{i}: {e}\")"
   ]
  },
  {
   "cell_type": "markdown",
   "metadata": {},
   "source": [
    "# Same one but with sigmoidal neurons"
   ]
  },
  {
   "cell_type": "code",
   "execution_count": 81,
   "metadata": {},
   "outputs": [],
   "source": [
    "np.random.seed(444)\n",
    "nn3 = NeuralNet.NeuralNet(4, [2], [\"sigmoid\"])"
   ]
  },
  {
   "cell_type": "code",
   "execution_count": 82,
   "metadata": {},
   "outputs": [
    {
     "data": {
      "text/plain": [
       "[array([[ 0.35743992,  0.3775384 ,  1.38233789,  1.17554883],\n",
       "        [-0.9392757 , -1.14315015, -0.54243951, -0.54870808]])]"
      ]
     },
     "execution_count": 82,
     "metadata": {},
     "output_type": "execute_result"
    }
   ],
   "source": [
    "nn3.layers"
   ]
  },
  {
   "cell_type": "code",
   "execution_count": 83,
   "metadata": {},
   "outputs": [
    {
     "data": {
      "text/plain": [
       "[array([[ 1.],\n",
       "        [ 1.]])]"
      ]
     },
     "execution_count": 83,
     "metadata": {},
     "output_type": "execute_result"
    }
   ],
   "source": [
    "nn3.biases"
   ]
  },
  {
   "cell_type": "code",
   "execution_count": 84,
   "metadata": {},
   "outputs": [
    {
     "data": {
      "text/plain": [
       "array([[ 0.22434035, -0.66186049, -0.12788196, ...,  0.87379029,\n",
       "         0.3475741 ,  0.18885069],\n",
       "       [-0.3099828 , -0.83286814,  0.15868007, ...,  0.19688836,\n",
       "        -0.3889808 ,  0.70714174],\n",
       "       [ 0.49267945, -0.41075351,  0.68135561, ..., -0.64920452,\n",
       "        -0.60310764,  0.2384976 ],\n",
       "       [-0.05291177, -0.09005287,  0.68010314, ..., -0.53248495,\n",
       "        -0.34262201, -0.10168198]])"
      ]
     },
     "execution_count": 84,
     "metadata": {},
     "output_type": "execute_result"
    }
   ],
   "source": [
    "np.random.seed(111)\n",
    "training_data = np.random.random((4, 256)) * 2 - 1\n",
    "training_data"
   ]
  },
  {
   "cell_type": "code",
   "execution_count": 85,
   "metadata": {
    "scrolled": true
   },
   "outputs": [],
   "source": [
    "training_out = np.zeros((2, 256))"
   ]
  },
  {
   "cell_type": "code",
   "execution_count": 95,
   "metadata": {},
   "outputs": [
    {
     "name": "stdout",
     "output_type": "stream",
     "text": [
      "0: 0.004783232263008053\n",
      "100: 0.004378525256699687\n",
      "200: 0.004035579008222993\n",
      "300: 0.003741450204976392\n",
      "400: 0.0034865405146258096\n",
      "500: 0.0032635897347240736\n",
      "600: 0.0030670097888240533\n",
      "700: 0.0028924328042213023\n",
      "800: 0.0027363974460186693\n",
      "900: 0.0025961267761230667\n",
      "1000: 0.002469368058211811\n"
     ]
    }
   ],
   "source": [
    "for i in range(1001):\n",
    "    e = nn3.train_step(training_data, training_out, learning_rate=1e-1)\n",
    "    \n",
    "    if i % 100 == 0:\n",
    "        print(f\"{i}: {e}\")"
   ]
  },
  {
   "cell_type": "code",
   "execution_count": 96,
   "metadata": {},
   "outputs": [
    {
     "data": {
      "text/plain": [
       "[array([[ 0.10313752,  0.18028451,  0.49307971,  0.42667118],\n",
       "        [-0.29375287, -0.23006409, -0.10273709, -0.2651007 ]])]"
      ]
     },
     "execution_count": 96,
     "metadata": {},
     "output_type": "execute_result"
    }
   ],
   "source": [
    "nn3.layers"
   ]
  },
  {
   "cell_type": "code",
   "execution_count": 97,
   "metadata": {},
   "outputs": [
    {
     "data": {
      "text/plain": [
       "[array([[-3.06793753],\n",
       "        [-3.02553073]])]"
      ]
     },
     "execution_count": 97,
     "metadata": {},
     "output_type": "execute_result"
    }
   ],
   "source": [
    "nn3.biases"
   ]
  },
  {
   "cell_type": "markdown",
   "metadata": {},
   "source": [
    "# Try an ez 2 layers"
   ]
  },
  {
   "cell_type": "code",
   "execution_count": 2,
   "metadata": {},
   "outputs": [],
   "source": [
    "np.random.seed(6)\n",
    "nn4 = NeuralNet.NeuralNet(1, [1, 1], [\"linear\"]*2)"
   ]
  },
  {
   "cell_type": "code",
   "execution_count": 3,
   "metadata": {},
   "outputs": [
    {
     "data": {
      "text/plain": [
       "[array([[-0.31178367]]), array([[ 0.72900392]])]"
      ]
     },
     "execution_count": 3,
     "metadata": {},
     "output_type": "execute_result"
    }
   ],
   "source": [
    "nn4.layers"
   ]
  },
  {
   "cell_type": "code",
   "execution_count": 4,
   "metadata": {},
   "outputs": [
    {
     "data": {
      "text/plain": [
       "[array([[ 1.]]), array([[ 1.]])]"
      ]
     },
     "execution_count": 4,
     "metadata": {},
     "output_type": "execute_result"
    }
   ],
   "source": [
    "nn4.biases"
   ]
  },
  {
   "cell_type": "code",
   "execution_count": 5,
   "metadata": {},
   "outputs": [
    {
     "data": {
      "text/plain": [
       "(1.1275700696435329,\n",
       " array([[ 1.]]),\n",
       " array([[ 0.]]),\n",
       " [array([[ 0.68821633]]), array([[ 1.5017124]])])"
      ]
     },
     "execution_count": 5,
     "metadata": {},
     "output_type": "execute_result"
    }
   ],
   "source": [
    "args = nn4.eval_sup(np.array([1.]).reshape(-1, 1), \n",
    "                    np.array([0.]).reshape(-1, 1))\n",
    "args"
   ]
  },
  {
   "cell_type": "code",
   "execution_count": 6,
   "metadata": {},
   "outputs": [
    {
     "data": {
      "text/plain": [
       "1.5017707"
      ]
     },
     "execution_count": 6,
     "metadata": {},
     "output_type": "execute_result"
    }
   ],
   "source": [
    "(-.3117+1)*.729+1"
   ]
  },
  {
   "cell_type": "code",
   "execution_count": 7,
   "metadata": {
    "scrolled": true
   },
   "outputs": [
    {
     "data": {
      "text/plain": [
       "([array([[ 1.09475423]]), array([[ 1.03350299]])],\n",
       " [array([[ 1.09475423]]), array([[ 1.5017124]])])"
      ]
     },
     "execution_count": 7,
     "metadata": {},
     "output_type": "execute_result"
    }
   ],
   "source": [
    "res = nn4.gradient_backprop(*args[1:])\n",
    "res"
   ]
  },
  {
   "cell_type": "code",
   "execution_count": 8,
   "metadata": {},
   "outputs": [
    {
     "data": {
      "text/plain": [
       "1.033502996643492"
      ]
     },
     "execution_count": 8,
     "metadata": {},
     "output_type": "execute_result"
    }
   ],
   "source": [
    "1.5017124 * 0.68821633"
   ]
  },
  {
   "cell_type": "code",
   "execution_count": 9,
   "metadata": {},
   "outputs": [
    {
     "data": {
      "text/plain": [
       "1.094754226312608"
      ]
     },
     "execution_count": 9,
     "metadata": {},
     "output_type": "execute_result"
    }
   ],
   "source": [
    "1.5017124 * 0.72900392"
   ]
  },
  {
   "cell_type": "code",
   "execution_count": 10,
   "metadata": {},
   "outputs": [],
   "source": [
    "np.random.seed(111)\n",
    "training_data = np.random.random((1, 256)) * 2 - 1\n",
    "training_out = np.zeros((1, 256))"
   ]
  },
  {
   "cell_type": "code",
   "execution_count": 14,
   "metadata": {},
   "outputs": [
    {
     "name": "stdout",
     "output_type": "stream",
     "text": [
      "0: 3.5437193048580607e-06\n",
      "100: 2.862009601332926e-06\n",
      "200: 2.3120960961139934e-06\n",
      "300: 1.8682717867967547e-06\n",
      "400: 1.5099220676623368e-06\n",
      "500: 1.2204891059979977e-06\n",
      "600: 9.866559495508433e-07\n",
      "700: 7.977007067857415e-07\n",
      "800: 6.449833432986498e-07\n",
      "900: 5.215365405726201e-07\n",
      "1000: 4.2173864614187064e-07\n"
     ]
    }
   ],
   "source": [
    "for i in range(1001):\n",
    "    e = nn4.train_step(training_data, training_out, learning_rate=5e-2)\n",
    "    \n",
    "    if i % 100 == 0:\n",
    "        print(f\"{i}: {e}\")"
   ]
  },
  {
   "cell_type": "code",
   "execution_count": 15,
   "metadata": {},
   "outputs": [
    {
     "data": {
      "text/plain": [
       "[array([[-0.2948706]]), array([[-0.0051843]])]"
      ]
     },
     "execution_count": 15,
     "metadata": {},
     "output_type": "execute_result"
    }
   ],
   "source": [
    "nn4.layers"
   ]
  },
  {
   "cell_type": "code",
   "execution_count": 16,
   "metadata": {},
   "outputs": [
    {
     "data": {
      "text/plain": [
       "[array([[ 0.6778992]]), array([[ 0.00358136]])]"
      ]
     },
     "execution_count": 16,
     "metadata": {},
     "output_type": "execute_result"
    }
   ],
   "source": [
    "nn4.biases"
   ]
  },
  {
   "cell_type": "code",
   "execution_count": 17,
   "metadata": {},
   "outputs": [
    {
     "data": {
      "text/plain": [
       "(1.2730137277563454e-06,\n",
       " array([[ 1.]]),\n",
       " array([[ 0.]]),\n",
       " [array([[ 0.3830286]]), array([[ 0.00159563]])])"
      ]
     },
     "execution_count": 17,
     "metadata": {},
     "output_type": "execute_result"
    }
   ],
   "source": [
    "args = nn4.eval_sup(np.array([1.]).reshape(-1, 1), \n",
    "                    np.array([0.]).reshape(-1, 1))\n",
    "args"
   ]
  },
  {
   "cell_type": "markdown",
   "metadata": {},
   "source": [
    "# Try a harder 2 layers with more neurons"
   ]
  },
  {
   "cell_type": "code",
   "execution_count": 18,
   "metadata": {},
   "outputs": [],
   "source": [
    "np.random.seed(6)\n",
    "nn4 = NeuralNet.NeuralNet(6, [4, 2], [\"linear\"]*2)"
   ]
  },
  {
   "cell_type": "code",
   "execution_count": 19,
   "metadata": {},
   "outputs": [
    {
     "data": {
      "text/plain": [
       "[array([[-0.31178367,  0.72900392,  0.21782079, -0.8990918 , -2.48678065,\n",
       "          0.91325152],\n",
       "        [ 1.12706373, -1.51409323,  1.63929108, -0.4298936 ,  2.63128056,\n",
       "          0.60182225],\n",
       "        [-0.33588161,  1.23773784,  0.11112817,  0.12915125,  0.07612761,\n",
       "         -0.15512816],\n",
       "        [ 0.63422534,  0.810655  ,  0.35480861,  1.81259031, -1.3564758 ,\n",
       "         -0.46363197]]),\n",
       " array([[ 0.82465384, -1.17643148,  1.56448966,  0.71270509],\n",
       "        [-0.1810066 ,  0.53419953, -0.58661296, -1.48185327]])]"
      ]
     },
     "execution_count": 19,
     "metadata": {},
     "output_type": "execute_result"
    }
   ],
   "source": [
    "nn4.layers"
   ]
  },
  {
   "cell_type": "code",
   "execution_count": 20,
   "metadata": {},
   "outputs": [
    {
     "data": {
      "text/plain": [
       "[array([[ 1.],\n",
       "        [ 1.],\n",
       "        [ 1.],\n",
       "        [ 1.]]), array([[ 1.],\n",
       "        [ 1.]])]"
      ]
     },
     "execution_count": 20,
     "metadata": {},
     "output_type": "execute_result"
    }
   ],
   "source": [
    "nn4.biases"
   ]
  },
  {
   "cell_type": "code",
   "execution_count": 21,
   "metadata": {},
   "outputs": [],
   "source": [
    "np.random.seed(111)\n",
    "training_data = np.random.random((6, 256)) * 2 - 1\n",
    "training_out = np.zeros((2, 256))"
   ]
  },
  {
   "cell_type": "code",
   "execution_count": 22,
   "metadata": {},
   "outputs": [
    {
     "name": "stdout",
     "output_type": "stream",
     "text": [
      "0: 20.342455144499578\n",
      "100: 0.03467858244676142\n",
      "200: 0.010155116769111567\n",
      "300: 0.0038015862216867\n",
      "400: 0.001533001200244172\n",
      "500: 0.000635982198176282\n",
      "600: 0.0002679415871275361\n",
      "700: 0.00011422778763565493\n",
      "800: 4.921730472348245e-05\n",
      "900: 2.1418916520352715e-05\n",
      "1000: 9.410448604289732e-06\n"
     ]
    }
   ],
   "source": [
    "for i in range(1001):\n",
    "    e = nn4.train_step(training_data, training_out, learning_rate=5e-2)\n",
    "    \n",
    "    if i % 100 == 0:\n",
    "        print(f\"{i}: {e}\")"
   ]
  },
  {
   "cell_type": "code",
   "execution_count": 23,
   "metadata": {},
   "outputs": [
    {
     "data": {
      "text/plain": [
       "[array([[-0.40196803,  0.67460624,  0.11487169, -0.97074585, -2.29344254,\n",
       "          0.8544733 ],\n",
       "        [ 0.8336711 , -1.21636617,  1.34697806, -0.39944512,  2.49064593,\n",
       "          0.5137335 ],\n",
       "        [-0.01752111, -0.06301542,  0.02263606, -0.12186267,  0.1716696 ,\n",
       "          0.03653912],\n",
       "        [ 0.38534157,  0.43826566,  0.05299728,  1.39623266, -0.97372891,\n",
       "         -0.44056583]]),\n",
       " array([[ 0.00144147, -0.00641608,  0.22922341,  0.01826167],\n",
       "        [-0.00663143,  0.00586905, -0.38552533, -0.03706916]])]"
      ]
     },
     "execution_count": 23,
     "metadata": {},
     "output_type": "execute_result"
    }
   ],
   "source": [
    "nn4.layers"
   ]
  },
  {
   "cell_type": "code",
   "execution_count": 24,
   "metadata": {
    "scrolled": true
   },
   "outputs": [
    {
     "data": {
      "text/plain": [
       "[array([[ 0.99592561],\n",
       "        [ 1.48084901],\n",
       "        [ 0.39114222],\n",
       "        [ 1.10046932]]), array([[-0.10095678],\n",
       "        [ 0.18970508]])]"
      ]
     },
     "execution_count": 24,
     "metadata": {},
     "output_type": "execute_result"
    }
   ],
   "source": [
    "nn4.biases"
   ]
  },
  {
   "cell_type": "markdown",
   "metadata": {},
   "source": [
    "# Try sigmoidal now"
   ]
  },
  {
   "cell_type": "code",
   "execution_count": 28,
   "metadata": {},
   "outputs": [],
   "source": [
    "np.random.seed(24)\n",
    "nn4 = NeuralNet.NeuralNet(6, [4, 2], [\"sigmoid\"]*2)"
   ]
  },
  {
   "cell_type": "code",
   "execution_count": 29,
   "metadata": {},
   "outputs": [
    {
     "data": {
      "text/plain": [
       "[array([[ 1.32921217, -0.77003345, -0.31628036, -0.99081039, -1.07081626,\n",
       "         -1.43871328],\n",
       "        [ 0.56441685,  0.29572189, -1.62640423,  0.2195652 ,  0.6788048 ,\n",
       "          1.88927273],\n",
       "        [ 0.9615384 ,  0.1040112 , -0.48116532,  0.85022853,  1.45342467,\n",
       "          1.05773744],\n",
       "        [ 0.16556161,  0.51501838, -1.33693569,  0.56286114,  1.39285483,\n",
       "         -0.06332798]]),\n",
       " array([[ 0.12166836,  1.20760254, -0.00204021,  1.62779574],\n",
       "        [ 0.35449279,  1.03752763, -0.38568351,  0.519818  ]])]"
      ]
     },
     "execution_count": 29,
     "metadata": {},
     "output_type": "execute_result"
    }
   ],
   "source": [
    "nn4.layers"
   ]
  },
  {
   "cell_type": "code",
   "execution_count": 30,
   "metadata": {},
   "outputs": [
    {
     "data": {
      "text/plain": [
       "[array([[ 1.],\n",
       "        [ 1.],\n",
       "        [ 1.],\n",
       "        [ 1.]]), array([[ 1.],\n",
       "        [ 1.]])]"
      ]
     },
     "execution_count": 30,
     "metadata": {},
     "output_type": "execute_result"
    }
   ],
   "source": [
    "nn4.biases"
   ]
  },
  {
   "cell_type": "code",
   "execution_count": 31,
   "metadata": {},
   "outputs": [],
   "source": [
    "np.random.seed(111)\n",
    "training_data = np.random.random((6, 256)) * 2 - 1\n",
    "training_out = np.zeros((2, 256))"
   ]
  },
  {
   "cell_type": "code",
   "execution_count": 37,
   "metadata": {},
   "outputs": [
    {
     "name": "stdout",
     "output_type": "stream",
     "text": [
      "0: 0.002416971242499569\n",
      "100: 0.0019472568433159725\n",
      "200: 0.0016274152476027923\n",
      "300: 0.0013960028713456906\n",
      "400: 0.0012210261442867525\n",
      "500: 0.0010842159944214615\n",
      "600: 0.0009743949958900937\n",
      "700: 0.0008843474511969321\n",
      "800: 0.000809210562645279\n",
      "900: 0.000745589663841994\n",
      "1000: 0.00069104421915915\n"
     ]
    }
   ],
   "source": [
    "for i in range(1001):\n",
    "    e = nn4.train_step(training_data, training_out, learning_rate=2e-1)\n",
    "    \n",
    "    if i % 100 == 0:\n",
    "        print(f\"{i}: {e}\")"
   ]
  },
  {
   "cell_type": "code",
   "execution_count": 33,
   "metadata": {},
   "outputs": [
    {
     "data": {
      "text/plain": [
       "[array([[ 1.28728949, -0.76309155, -0.31789409, -0.97596442, -1.05241692,\n",
       "         -1.40218155],\n",
       "        [ 0.57976972,  0.32318842, -1.66216117,  0.22654504,  0.67964707,\n",
       "          1.91029078],\n",
       "        [ 0.88069813,  0.08791851, -0.47021528,  0.82081338,  1.38654038,\n",
       "          1.04340882],\n",
       "        [ 0.17260003,  0.54488212, -1.37662218,  0.57605731,  1.40651021,\n",
       "         -0.08183874]]),\n",
       " array([[-1.10054868, -0.04200364, -1.39591382,  0.37453914],\n",
       "        [-0.70320831, -0.00665001, -1.52044613, -0.51882068]])]"
      ]
     },
     "execution_count": 33,
     "metadata": {},
     "output_type": "execute_result"
    }
   ],
   "source": [
    "nn4.layers"
   ]
  },
  {
   "cell_type": "code",
   "execution_count": 34,
   "metadata": {
    "scrolled": true
   },
   "outputs": [
    {
     "data": {
      "text/plain": [
       "[array([[ 1.20357509],\n",
       "        [ 0.68970811],\n",
       "        [ 1.44254748],\n",
       "        [ 0.65698829]]), array([[-0.91286225],\n",
       "        [-0.6163662 ]])]"
      ]
     },
     "execution_count": 34,
     "metadata": {},
     "output_type": "execute_result"
    }
   ],
   "source": [
    "nn4.biases"
   ]
  },
  {
   "cell_type": "code",
   "execution_count": 38,
   "metadata": {},
   "outputs": [
    {
     "data": {
      "text/plain": [
       "(0.00083986888805679511, array([[ 1.],\n",
       "        [ 1.],\n",
       "        [ 1.],\n",
       "        [ 1.],\n",
       "        [ 1.],\n",
       "        [ 1.]]), array([[ 0.],\n",
       "        [ 0.]]), [array([[ 0.13257235],\n",
       "         [ 0.94049122],\n",
       "         [ 0.99485283],\n",
       "         [ 0.87117409]]), array([[ 0.03424409],\n",
       "         [ 0.02251845]])])"
      ]
     },
     "execution_count": 38,
     "metadata": {},
     "output_type": "execute_result"
    }
   ],
   "source": [
    "args = nn4.eval_sup(np.array([1.]*6).reshape(-1, 1), \n",
    "                    np.array([0., 0]).reshape(-1, 1))\n",
    "args"
   ]
  },
  {
   "cell_type": "markdown",
   "metadata": {},
   "source": [
    "# Try recognizing handwritten digits"
   ]
  },
  {
   "cell_type": "code",
   "execution_count": 51,
   "metadata": {
    "scrolled": true
   },
   "outputs": [
    {
     "ename": "HTTPError",
     "evalue": "HTTP Error 500: Internal Server Error",
     "output_type": "error",
     "traceback": [
      "\u001b[1;31m---------------------------------------------------------------------------\u001b[0m",
      "\u001b[1;31mHTTPError\u001b[0m                                 Traceback (most recent call last)",
      "\u001b[1;32m<ipython-input-51-d4a8cb60ae7e>\u001b[0m in \u001b[0;36m<module>\u001b[1;34m()\u001b[0m\n\u001b[0;32m      1\u001b[0m \u001b[1;32mfrom\u001b[0m \u001b[0msklearn\u001b[0m\u001b[1;33m.\u001b[0m\u001b[0mdatasets\u001b[0m \u001b[1;32mimport\u001b[0m \u001b[0mfetch_mldata\u001b[0m\u001b[1;33m\u001b[0m\u001b[0m\n\u001b[1;32m----> 2\u001b[1;33m \u001b[0mmnist\u001b[0m \u001b[1;33m=\u001b[0m \u001b[0mfetch_mldata\u001b[0m\u001b[1;33m(\u001b[0m\u001b[1;34m'MNIST original'\u001b[0m\u001b[1;33m,\u001b[0m \u001b[0mdata_home\u001b[0m\u001b[1;33m=\u001b[0m\u001b[1;34m'./data/'\u001b[0m\u001b[1;33m)\u001b[0m\u001b[1;33m\u001b[0m\u001b[0m\n\u001b[0m",
      "\u001b[1;32mC:\\ProgramData\\Anaconda3\\lib\\site-packages\\sklearn\\datasets\\mldata.py\u001b[0m in \u001b[0;36mfetch_mldata\u001b[1;34m(dataname, target_name, data_name, transpose_data, data_home)\u001b[0m\n\u001b[0;32m    152\u001b[0m         \u001b[0murlname\u001b[0m \u001b[1;33m=\u001b[0m \u001b[0mMLDATA_BASE_URL\u001b[0m \u001b[1;33m%\u001b[0m \u001b[0mquote\u001b[0m\u001b[1;33m(\u001b[0m\u001b[0mdataname\u001b[0m\u001b[1;33m)\u001b[0m\u001b[1;33m\u001b[0m\u001b[0m\n\u001b[0;32m    153\u001b[0m         \u001b[1;32mtry\u001b[0m\u001b[1;33m:\u001b[0m\u001b[1;33m\u001b[0m\u001b[0m\n\u001b[1;32m--> 154\u001b[1;33m             \u001b[0mmldata_url\u001b[0m \u001b[1;33m=\u001b[0m \u001b[0murlopen\u001b[0m\u001b[1;33m(\u001b[0m\u001b[0murlname\u001b[0m\u001b[1;33m)\u001b[0m\u001b[1;33m\u001b[0m\u001b[0m\n\u001b[0m\u001b[0;32m    155\u001b[0m         \u001b[1;32mexcept\u001b[0m \u001b[0mHTTPError\u001b[0m \u001b[1;32mas\u001b[0m \u001b[0me\u001b[0m\u001b[1;33m:\u001b[0m\u001b[1;33m\u001b[0m\u001b[0m\n\u001b[0;32m    156\u001b[0m             \u001b[1;32mif\u001b[0m \u001b[0me\u001b[0m\u001b[1;33m.\u001b[0m\u001b[0mcode\u001b[0m \u001b[1;33m==\u001b[0m \u001b[1;36m404\u001b[0m\u001b[1;33m:\u001b[0m\u001b[1;33m\u001b[0m\u001b[0m\n",
      "\u001b[1;32mC:\\ProgramData\\Anaconda3\\lib\\urllib\\request.py\u001b[0m in \u001b[0;36murlopen\u001b[1;34m(url, data, timeout, cafile, capath, cadefault, context)\u001b[0m\n\u001b[0;32m    221\u001b[0m     \u001b[1;32melse\u001b[0m\u001b[1;33m:\u001b[0m\u001b[1;33m\u001b[0m\u001b[0m\n\u001b[0;32m    222\u001b[0m         \u001b[0mopener\u001b[0m \u001b[1;33m=\u001b[0m \u001b[0m_opener\u001b[0m\u001b[1;33m\u001b[0m\u001b[0m\n\u001b[1;32m--> 223\u001b[1;33m     \u001b[1;32mreturn\u001b[0m \u001b[0mopener\u001b[0m\u001b[1;33m.\u001b[0m\u001b[0mopen\u001b[0m\u001b[1;33m(\u001b[0m\u001b[0murl\u001b[0m\u001b[1;33m,\u001b[0m \u001b[0mdata\u001b[0m\u001b[1;33m,\u001b[0m \u001b[0mtimeout\u001b[0m\u001b[1;33m)\u001b[0m\u001b[1;33m\u001b[0m\u001b[0m\n\u001b[0m\u001b[0;32m    224\u001b[0m \u001b[1;33m\u001b[0m\u001b[0m\n\u001b[0;32m    225\u001b[0m \u001b[1;32mdef\u001b[0m \u001b[0minstall_opener\u001b[0m\u001b[1;33m(\u001b[0m\u001b[0mopener\u001b[0m\u001b[1;33m)\u001b[0m\u001b[1;33m:\u001b[0m\u001b[1;33m\u001b[0m\u001b[0m\n",
      "\u001b[1;32mC:\\ProgramData\\Anaconda3\\lib\\urllib\\request.py\u001b[0m in \u001b[0;36mopen\u001b[1;34m(self, fullurl, data, timeout)\u001b[0m\n\u001b[0;32m    530\u001b[0m         \u001b[1;32mfor\u001b[0m \u001b[0mprocessor\u001b[0m \u001b[1;32min\u001b[0m \u001b[0mself\u001b[0m\u001b[1;33m.\u001b[0m\u001b[0mprocess_response\u001b[0m\u001b[1;33m.\u001b[0m\u001b[0mget\u001b[0m\u001b[1;33m(\u001b[0m\u001b[0mprotocol\u001b[0m\u001b[1;33m,\u001b[0m \u001b[1;33m[\u001b[0m\u001b[1;33m]\u001b[0m\u001b[1;33m)\u001b[0m\u001b[1;33m:\u001b[0m\u001b[1;33m\u001b[0m\u001b[0m\n\u001b[0;32m    531\u001b[0m             \u001b[0mmeth\u001b[0m \u001b[1;33m=\u001b[0m \u001b[0mgetattr\u001b[0m\u001b[1;33m(\u001b[0m\u001b[0mprocessor\u001b[0m\u001b[1;33m,\u001b[0m \u001b[0mmeth_name\u001b[0m\u001b[1;33m)\u001b[0m\u001b[1;33m\u001b[0m\u001b[0m\n\u001b[1;32m--> 532\u001b[1;33m             \u001b[0mresponse\u001b[0m \u001b[1;33m=\u001b[0m \u001b[0mmeth\u001b[0m\u001b[1;33m(\u001b[0m\u001b[0mreq\u001b[0m\u001b[1;33m,\u001b[0m \u001b[0mresponse\u001b[0m\u001b[1;33m)\u001b[0m\u001b[1;33m\u001b[0m\u001b[0m\n\u001b[0m\u001b[0;32m    533\u001b[0m \u001b[1;33m\u001b[0m\u001b[0m\n\u001b[0;32m    534\u001b[0m         \u001b[1;32mreturn\u001b[0m \u001b[0mresponse\u001b[0m\u001b[1;33m\u001b[0m\u001b[0m\n",
      "\u001b[1;32mC:\\ProgramData\\Anaconda3\\lib\\urllib\\request.py\u001b[0m in \u001b[0;36mhttp_response\u001b[1;34m(self, request, response)\u001b[0m\n\u001b[0;32m    640\u001b[0m         \u001b[1;32mif\u001b[0m \u001b[1;32mnot\u001b[0m \u001b[1;33m(\u001b[0m\u001b[1;36m200\u001b[0m \u001b[1;33m<=\u001b[0m \u001b[0mcode\u001b[0m \u001b[1;33m<\u001b[0m \u001b[1;36m300\u001b[0m\u001b[1;33m)\u001b[0m\u001b[1;33m:\u001b[0m\u001b[1;33m\u001b[0m\u001b[0m\n\u001b[0;32m    641\u001b[0m             response = self.parent.error(\n\u001b[1;32m--> 642\u001b[1;33m                 'http', request, response, code, msg, hdrs)\n\u001b[0m\u001b[0;32m    643\u001b[0m \u001b[1;33m\u001b[0m\u001b[0m\n\u001b[0;32m    644\u001b[0m         \u001b[1;32mreturn\u001b[0m \u001b[0mresponse\u001b[0m\u001b[1;33m\u001b[0m\u001b[0m\n",
      "\u001b[1;32mC:\\ProgramData\\Anaconda3\\lib\\urllib\\request.py\u001b[0m in \u001b[0;36merror\u001b[1;34m(self, proto, *args)\u001b[0m\n\u001b[0;32m    568\u001b[0m         \u001b[1;32mif\u001b[0m \u001b[0mhttp_err\u001b[0m\u001b[1;33m:\u001b[0m\u001b[1;33m\u001b[0m\u001b[0m\n\u001b[0;32m    569\u001b[0m             \u001b[0margs\u001b[0m \u001b[1;33m=\u001b[0m \u001b[1;33m(\u001b[0m\u001b[0mdict\u001b[0m\u001b[1;33m,\u001b[0m \u001b[1;34m'default'\u001b[0m\u001b[1;33m,\u001b[0m \u001b[1;34m'http_error_default'\u001b[0m\u001b[1;33m)\u001b[0m \u001b[1;33m+\u001b[0m \u001b[0morig_args\u001b[0m\u001b[1;33m\u001b[0m\u001b[0m\n\u001b[1;32m--> 570\u001b[1;33m             \u001b[1;32mreturn\u001b[0m \u001b[0mself\u001b[0m\u001b[1;33m.\u001b[0m\u001b[0m_call_chain\u001b[0m\u001b[1;33m(\u001b[0m\u001b[1;33m*\u001b[0m\u001b[0margs\u001b[0m\u001b[1;33m)\u001b[0m\u001b[1;33m\u001b[0m\u001b[0m\n\u001b[0m\u001b[0;32m    571\u001b[0m \u001b[1;33m\u001b[0m\u001b[0m\n\u001b[0;32m    572\u001b[0m \u001b[1;31m# XXX probably also want an abstract factory that knows when it makes\u001b[0m\u001b[1;33m\u001b[0m\u001b[1;33m\u001b[0m\u001b[0m\n",
      "\u001b[1;32mC:\\ProgramData\\Anaconda3\\lib\\urllib\\request.py\u001b[0m in \u001b[0;36m_call_chain\u001b[1;34m(self, chain, kind, meth_name, *args)\u001b[0m\n\u001b[0;32m    502\u001b[0m         \u001b[1;32mfor\u001b[0m \u001b[0mhandler\u001b[0m \u001b[1;32min\u001b[0m \u001b[0mhandlers\u001b[0m\u001b[1;33m:\u001b[0m\u001b[1;33m\u001b[0m\u001b[0m\n\u001b[0;32m    503\u001b[0m             \u001b[0mfunc\u001b[0m \u001b[1;33m=\u001b[0m \u001b[0mgetattr\u001b[0m\u001b[1;33m(\u001b[0m\u001b[0mhandler\u001b[0m\u001b[1;33m,\u001b[0m \u001b[0mmeth_name\u001b[0m\u001b[1;33m)\u001b[0m\u001b[1;33m\u001b[0m\u001b[0m\n\u001b[1;32m--> 504\u001b[1;33m             \u001b[0mresult\u001b[0m \u001b[1;33m=\u001b[0m \u001b[0mfunc\u001b[0m\u001b[1;33m(\u001b[0m\u001b[1;33m*\u001b[0m\u001b[0margs\u001b[0m\u001b[1;33m)\u001b[0m\u001b[1;33m\u001b[0m\u001b[0m\n\u001b[0m\u001b[0;32m    505\u001b[0m             \u001b[1;32mif\u001b[0m \u001b[0mresult\u001b[0m \u001b[1;32mis\u001b[0m \u001b[1;32mnot\u001b[0m \u001b[1;32mNone\u001b[0m\u001b[1;33m:\u001b[0m\u001b[1;33m\u001b[0m\u001b[0m\n\u001b[0;32m    506\u001b[0m                 \u001b[1;32mreturn\u001b[0m \u001b[0mresult\u001b[0m\u001b[1;33m\u001b[0m\u001b[0m\n",
      "\u001b[1;32mC:\\ProgramData\\Anaconda3\\lib\\urllib\\request.py\u001b[0m in \u001b[0;36mhttp_error_default\u001b[1;34m(self, req, fp, code, msg, hdrs)\u001b[0m\n\u001b[0;32m    648\u001b[0m \u001b[1;32mclass\u001b[0m \u001b[0mHTTPDefaultErrorHandler\u001b[0m\u001b[1;33m(\u001b[0m\u001b[0mBaseHandler\u001b[0m\u001b[1;33m)\u001b[0m\u001b[1;33m:\u001b[0m\u001b[1;33m\u001b[0m\u001b[0m\n\u001b[0;32m    649\u001b[0m     \u001b[1;32mdef\u001b[0m \u001b[0mhttp_error_default\u001b[0m\u001b[1;33m(\u001b[0m\u001b[0mself\u001b[0m\u001b[1;33m,\u001b[0m \u001b[0mreq\u001b[0m\u001b[1;33m,\u001b[0m \u001b[0mfp\u001b[0m\u001b[1;33m,\u001b[0m \u001b[0mcode\u001b[0m\u001b[1;33m,\u001b[0m \u001b[0mmsg\u001b[0m\u001b[1;33m,\u001b[0m \u001b[0mhdrs\u001b[0m\u001b[1;33m)\u001b[0m\u001b[1;33m:\u001b[0m\u001b[1;33m\u001b[0m\u001b[0m\n\u001b[1;32m--> 650\u001b[1;33m         \u001b[1;32mraise\u001b[0m \u001b[0mHTTPError\u001b[0m\u001b[1;33m(\u001b[0m\u001b[0mreq\u001b[0m\u001b[1;33m.\u001b[0m\u001b[0mfull_url\u001b[0m\u001b[1;33m,\u001b[0m \u001b[0mcode\u001b[0m\u001b[1;33m,\u001b[0m \u001b[0mmsg\u001b[0m\u001b[1;33m,\u001b[0m \u001b[0mhdrs\u001b[0m\u001b[1;33m,\u001b[0m \u001b[0mfp\u001b[0m\u001b[1;33m)\u001b[0m\u001b[1;33m\u001b[0m\u001b[0m\n\u001b[0m\u001b[0;32m    651\u001b[0m \u001b[1;33m\u001b[0m\u001b[0m\n\u001b[0;32m    652\u001b[0m \u001b[1;32mclass\u001b[0m \u001b[0mHTTPRedirectHandler\u001b[0m\u001b[1;33m(\u001b[0m\u001b[0mBaseHandler\u001b[0m\u001b[1;33m)\u001b[0m\u001b[1;33m:\u001b[0m\u001b[1;33m\u001b[0m\u001b[0m\n",
      "\u001b[1;31mHTTPError\u001b[0m: HTTP Error 500: Internal Server Error"
     ]
    }
   ],
   "source": [
    "from sklearn.datasets import fetch_mldata\n",
    "mnist = fetch_mldata('MNIST original', data_home='./data/')"
   ]
  },
  {
   "cell_type": "code",
   "execution_count": 52,
   "metadata": {},
   "outputs": [],
   "source": [
    "iris = fetch_mldata('iris', data_home='./data/')"
   ]
  },
  {
   "cell_type": "code",
   "execution_count": 53,
   "metadata": {},
   "outputs": [
    {
     "data": {
      "text/plain": [
       "{'COL_NAMES': ['label', 'data'],\n",
       " 'DESCR': 'mldata.org dataset: iris',\n",
       " 'data': array([[ -5.55556000e-01,   2.50000000e-01,  -8.64407000e-01,\n",
       "          -9.16667000e-01],\n",
       "        [ -6.66667000e-01,  -1.66667000e-01,  -8.64407000e-01,\n",
       "          -9.16667000e-01],\n",
       "        [ -7.77778000e-01,   0.00000000e+00,  -8.98305000e-01,\n",
       "          -9.16667000e-01],\n",
       "        [ -8.33333000e-01,  -8.33334000e-02,  -8.30508000e-01,\n",
       "          -9.16667000e-01],\n",
       "        [ -6.11111000e-01,   3.33333000e-01,  -8.64407000e-01,\n",
       "          -9.16667000e-01],\n",
       "        [ -3.88889000e-01,   5.83333000e-01,  -7.62712000e-01,\n",
       "          -7.50000000e-01],\n",
       "        [ -8.33333000e-01,   1.66667000e-01,  -8.64407000e-01,\n",
       "          -8.33333000e-01],\n",
       "        [ -6.11111000e-01,   1.66667000e-01,  -8.30508000e-01,\n",
       "          -9.16667000e-01],\n",
       "        [ -9.44444000e-01,  -2.50000000e-01,  -8.64407000e-01,\n",
       "          -9.16667000e-01],\n",
       "        [ -6.66667000e-01,  -8.33334000e-02,  -8.30508000e-01,\n",
       "          -1.00000000e+00],\n",
       "        [ -3.88889000e-01,   4.16667000e-01,  -8.30508000e-01,\n",
       "          -9.16667000e-01],\n",
       "        [ -7.22222000e-01,   1.66667000e-01,  -7.96610000e-01,\n",
       "          -9.16667000e-01],\n",
       "        [ -7.22222000e-01,  -1.66667000e-01,  -8.64407000e-01,\n",
       "          -1.00000000e+00],\n",
       "        [ -1.00000000e+00,  -1.66667000e-01,  -9.66102000e-01,\n",
       "          -1.00000000e+00],\n",
       "        [ -1.66667000e-01,   6.66667000e-01,  -9.32203000e-01,\n",
       "          -9.16667000e-01],\n",
       "        [ -2.22222000e-01,   1.00000000e+00,  -8.30508000e-01,\n",
       "          -7.50000000e-01],\n",
       "        [ -3.88889000e-01,   5.83333000e-01,  -8.98305000e-01,\n",
       "          -7.50000000e-01],\n",
       "        [ -5.55556000e-01,   2.50000000e-01,  -8.64407000e-01,\n",
       "          -8.33333000e-01],\n",
       "        [ -2.22222000e-01,   5.00000000e-01,  -7.62712000e-01,\n",
       "          -8.33333000e-01],\n",
       "        [ -5.55556000e-01,   5.00000000e-01,  -8.30508000e-01,\n",
       "          -8.33333000e-01],\n",
       "        [ -3.88889000e-01,   1.66667000e-01,  -7.62712000e-01,\n",
       "          -9.16667000e-01],\n",
       "        [ -5.55556000e-01,   4.16667000e-01,  -8.30508000e-01,\n",
       "          -7.50000000e-01],\n",
       "        [ -8.33333000e-01,   3.33333000e-01,  -1.00000000e+00,\n",
       "          -9.16667000e-01],\n",
       "        [ -5.55556000e-01,   8.33333000e-02,  -7.62712000e-01,\n",
       "          -6.66667000e-01],\n",
       "        [ -7.22222000e-01,   1.66667000e-01,  -6.94915000e-01,\n",
       "          -9.16667000e-01],\n",
       "        [ -6.11111000e-01,  -1.66667000e-01,  -7.96610000e-01,\n",
       "          -9.16667000e-01],\n",
       "        [ -6.11111000e-01,   1.66667000e-01,  -7.96610000e-01,\n",
       "          -7.50000000e-01],\n",
       "        [ -5.00000000e-01,   2.50000000e-01,  -8.30508000e-01,\n",
       "          -9.16667000e-01],\n",
       "        [ -5.00000000e-01,   1.66667000e-01,  -8.64407000e-01,\n",
       "          -9.16667000e-01],\n",
       "        [ -7.77778000e-01,   0.00000000e+00,  -7.96610000e-01,\n",
       "          -9.16667000e-01],\n",
       "        [ -7.22222000e-01,  -8.33334000e-02,  -7.96610000e-01,\n",
       "          -9.16667000e-01],\n",
       "        [ -3.88889000e-01,   1.66667000e-01,  -8.30508000e-01,\n",
       "          -7.50000000e-01],\n",
       "        [ -5.00000000e-01,   7.50000000e-01,  -8.30508000e-01,\n",
       "          -1.00000000e+00],\n",
       "        [ -3.33333000e-01,   8.33333000e-01,  -8.64407000e-01,\n",
       "          -9.16667000e-01],\n",
       "        [ -6.66667000e-01,  -8.33334000e-02,  -8.30508000e-01,\n",
       "          -1.00000000e+00],\n",
       "        [ -6.11111000e-01,   0.00000000e+00,  -9.32203000e-01,\n",
       "          -9.16667000e-01],\n",
       "        [ -3.33333000e-01,   2.50000000e-01,  -8.98305000e-01,\n",
       "          -9.16667000e-01],\n",
       "        [ -6.66667000e-01,  -8.33334000e-02,  -8.30508000e-01,\n",
       "          -1.00000000e+00],\n",
       "        [ -9.44444000e-01,  -1.66667000e-01,  -8.98305000e-01,\n",
       "          -9.16667000e-01],\n",
       "        [ -5.55556000e-01,   1.66667000e-01,  -8.30508000e-01,\n",
       "          -9.16667000e-01],\n",
       "        [ -6.11111000e-01,   2.50000000e-01,  -8.98305000e-01,\n",
       "          -8.33333000e-01],\n",
       "        [ -8.88889000e-01,  -7.50000000e-01,  -8.98305000e-01,\n",
       "          -8.33333000e-01],\n",
       "        [ -9.44444000e-01,   0.00000000e+00,  -8.98305000e-01,\n",
       "          -9.16667000e-01],\n",
       "        [ -6.11111000e-01,   2.50000000e-01,  -7.96610000e-01,\n",
       "          -5.83333000e-01],\n",
       "        [ -5.55556000e-01,   5.00000000e-01,  -6.94915000e-01,\n",
       "          -7.50000000e-01],\n",
       "        [ -7.22222000e-01,  -1.66667000e-01,  -8.64407000e-01,\n",
       "          -8.33333000e-01],\n",
       "        [ -5.55556000e-01,   5.00000000e-01,  -7.96610000e-01,\n",
       "          -9.16667000e-01],\n",
       "        [ -8.33333000e-01,   0.00000000e+00,  -8.64407000e-01,\n",
       "          -9.16667000e-01],\n",
       "        [ -4.44444000e-01,   4.16667000e-01,  -8.30508000e-01,\n",
       "          -9.16667000e-01],\n",
       "        [ -6.11111000e-01,   8.33333000e-02,  -8.64407000e-01,\n",
       "          -9.16667000e-01],\n",
       "        [  5.00000000e-01,   0.00000000e+00,   2.54237000e-01,\n",
       "           8.33333000e-02],\n",
       "        [  1.66667000e-01,   0.00000000e+00,   1.86441000e-01,\n",
       "           1.66667000e-01],\n",
       "        [  4.44444000e-01,  -8.33334000e-02,   3.22034000e-01,\n",
       "           1.66667000e-01],\n",
       "        [ -3.33333000e-01,  -7.50000000e-01,   1.69491000e-02,\n",
       "          -4.03573000e-08],\n",
       "        [  2.22222000e-01,  -3.33333000e-01,   2.20339000e-01,\n",
       "           1.66667000e-01],\n",
       "        [ -2.22222000e-01,  -3.33333000e-01,   1.86441000e-01,\n",
       "          -4.03573000e-08],\n",
       "        [  1.11111000e-01,   8.33333000e-02,   2.54237000e-01,\n",
       "           2.50000000e-01],\n",
       "        [ -6.66667000e-01,  -6.66667000e-01,  -2.20339000e-01,\n",
       "          -2.50000000e-01],\n",
       "        [  2.77778000e-01,  -2.50000000e-01,   2.20339000e-01,\n",
       "          -4.03573000e-08],\n",
       "        [ -5.00000000e-01,  -4.16667000e-01,  -1.69491000e-02,\n",
       "           8.33333000e-02],\n",
       "        [ -6.11111000e-01,  -1.00000000e+00,  -1.52542000e-01,\n",
       "          -2.50000000e-01],\n",
       "        [ -1.11111000e-01,  -1.66667000e-01,   8.47457000e-02,\n",
       "           1.66667000e-01],\n",
       "        [ -5.55556000e-02,  -8.33333000e-01,   1.69491000e-02,\n",
       "          -2.50000000e-01],\n",
       "        [ -1.32455000e-07,  -2.50000000e-01,   2.54237000e-01,\n",
       "           8.33333000e-02],\n",
       "        [ -2.77778000e-01,  -2.50000000e-01,  -1.18644000e-01,\n",
       "          -4.03573000e-08],\n",
       "        [  3.33333000e-01,  -8.33334000e-02,   1.52542000e-01,\n",
       "           8.33333000e-02],\n",
       "        [ -2.77778000e-01,  -1.66667000e-01,   1.86441000e-01,\n",
       "           1.66667000e-01],\n",
       "        [ -1.66667000e-01,  -4.16667000e-01,   5.08474000e-02,\n",
       "          -2.50000000e-01],\n",
       "        [  5.55554000e-02,  -8.33333000e-01,   1.86441000e-01,\n",
       "           1.66667000e-01],\n",
       "        [ -2.77778000e-01,  -5.83333000e-01,  -1.69491000e-02,\n",
       "          -1.66667000e-01],\n",
       "        [ -1.11111000e-01,   0.00000000e+00,   2.88136000e-01,\n",
       "           4.16667000e-01],\n",
       "        [ -1.32455000e-07,  -3.33333000e-01,   1.69491000e-02,\n",
       "          -4.03573000e-08],\n",
       "        [  1.11111000e-01,  -5.83333000e-01,   3.22034000e-01,\n",
       "           1.66667000e-01],\n",
       "        [ -1.32455000e-07,  -3.33333000e-01,   2.54237000e-01,\n",
       "          -8.33333000e-02],\n",
       "        [  1.66667000e-01,  -2.50000000e-01,   1.18644000e-01,\n",
       "          -4.03573000e-08],\n",
       "        [  2.77778000e-01,  -1.66667000e-01,   1.52542000e-01,\n",
       "           8.33333000e-02],\n",
       "        [  3.88889000e-01,  -3.33333000e-01,   2.88136000e-01,\n",
       "           8.33333000e-02],\n",
       "        [  3.33333000e-01,  -1.66667000e-01,   3.55932000e-01,\n",
       "           3.33333000e-01],\n",
       "        [ -5.55556000e-02,  -2.50000000e-01,   1.86441000e-01,\n",
       "           1.66667000e-01],\n",
       "        [ -2.22222000e-01,  -5.00000000e-01,  -1.52542000e-01,\n",
       "          -2.50000000e-01],\n",
       "        [ -3.33333000e-01,  -6.66667000e-01,  -5.08475000e-02,\n",
       "          -1.66667000e-01],\n",
       "        [ -3.33333000e-01,  -6.66667000e-01,  -8.47458000e-02,\n",
       "          -2.50000000e-01],\n",
       "        [ -1.66667000e-01,  -4.16667000e-01,  -1.69491000e-02,\n",
       "          -8.33333000e-02],\n",
       "        [ -5.55556000e-02,  -4.16667000e-01,   3.89830000e-01,\n",
       "           2.50000000e-01],\n",
       "        [ -3.88889000e-01,  -1.66667000e-01,   1.86441000e-01,\n",
       "           1.66667000e-01],\n",
       "        [ -5.55556000e-02,   1.66667000e-01,   1.86441000e-01,\n",
       "           2.50000000e-01],\n",
       "        [  3.33333000e-01,  -8.33334000e-02,   2.54237000e-01,\n",
       "           1.66667000e-01],\n",
       "        [  1.11111000e-01,  -7.50000000e-01,   1.52542000e-01,\n",
       "          -4.03573000e-08],\n",
       "        [ -2.77778000e-01,  -1.66667000e-01,   5.08474000e-02,\n",
       "          -4.03573000e-08],\n",
       "        [ -3.33333000e-01,  -5.83333000e-01,   1.69491000e-02,\n",
       "          -4.03573000e-08],\n",
       "        [ -3.33333000e-01,  -5.00000000e-01,   1.52542000e-01,\n",
       "          -8.33333000e-02],\n",
       "        [ -1.32455000e-07,  -1.66667000e-01,   2.20339000e-01,\n",
       "           8.33333000e-02],\n",
       "        [ -1.66667000e-01,  -5.00000000e-01,   1.69491000e-02,\n",
       "          -8.33333000e-02],\n",
       "        [ -6.11111000e-01,  -7.50000000e-01,  -2.20339000e-01,\n",
       "          -2.50000000e-01],\n",
       "        [ -2.77778000e-01,  -4.16667000e-01,   8.47457000e-02,\n",
       "          -4.03573000e-08],\n",
       "        [ -2.22222000e-01,  -1.66667000e-01,   8.47457000e-02,\n",
       "          -8.33333000e-02],\n",
       "        [ -2.22222000e-01,  -2.50000000e-01,   8.47457000e-02,\n",
       "          -4.03573000e-08],\n",
       "        [  5.55554000e-02,  -2.50000000e-01,   1.18644000e-01,\n",
       "          -4.03573000e-08],\n",
       "        [ -5.55556000e-01,  -5.83333000e-01,  -3.22034000e-01,\n",
       "          -1.66667000e-01],\n",
       "        [ -2.22222000e-01,  -3.33333000e-01,   5.08474000e-02,\n",
       "          -4.03573000e-08],\n",
       "        [  1.11111000e-01,   8.33333000e-02,   6.94915000e-01,\n",
       "           1.00000000e+00],\n",
       "        [ -1.66667000e-01,  -4.16667000e-01,   3.89830000e-01,\n",
       "           5.00000000e-01],\n",
       "        [  5.55555000e-01,  -1.66667000e-01,   6.61017000e-01,\n",
       "           6.66667000e-01],\n",
       "        [  1.11111000e-01,  -2.50000000e-01,   5.59322000e-01,\n",
       "           4.16667000e-01],\n",
       "        [  2.22222000e-01,  -1.66667000e-01,   6.27119000e-01,\n",
       "           7.50000000e-01],\n",
       "        [  8.33333000e-01,  -1.66667000e-01,   8.98305000e-01,\n",
       "           6.66667000e-01],\n",
       "        [ -6.66667000e-01,  -5.83333000e-01,   1.86441000e-01,\n",
       "           3.33333000e-01],\n",
       "        [  6.66667000e-01,  -2.50000000e-01,   7.96610000e-01,\n",
       "           4.16667000e-01],\n",
       "        [  3.33333000e-01,  -5.83333000e-01,   6.27119000e-01,\n",
       "           4.16667000e-01],\n",
       "        [  6.11111000e-01,   3.33333000e-01,   7.28813000e-01,\n",
       "           1.00000000e+00],\n",
       "        [  2.22222000e-01,   0.00000000e+00,   3.89830000e-01,\n",
       "           5.83333000e-01],\n",
       "        [  1.66667000e-01,  -4.16667000e-01,   4.57627000e-01,\n",
       "           5.00000000e-01],\n",
       "        [  3.88889000e-01,  -1.66667000e-01,   5.25424000e-01,\n",
       "           6.66667000e-01],\n",
       "        [ -2.22222000e-01,  -5.83333000e-01,   3.55932000e-01,\n",
       "           5.83333000e-01],\n",
       "        [ -1.66667000e-01,  -3.33333000e-01,   3.89830000e-01,\n",
       "           9.16667000e-01],\n",
       "        [  1.66667000e-01,   0.00000000e+00,   4.57627000e-01,\n",
       "           8.33333000e-01],\n",
       "        [  2.22222000e-01,  -1.66667000e-01,   5.25424000e-01,\n",
       "           4.16667000e-01],\n",
       "        [  8.88889000e-01,   5.00000000e-01,   9.32203000e-01,\n",
       "           7.50000000e-01],\n",
       "        [  8.88889000e-01,  -5.00000000e-01,   1.00000000e+00,\n",
       "           8.33333000e-01],\n",
       "        [ -5.55556000e-02,  -8.33333000e-01,   3.55932000e-01,\n",
       "           1.66667000e-01],\n",
       "        [  4.44444000e-01,   0.00000000e+00,   5.93220000e-01,\n",
       "           8.33333000e-01],\n",
       "        [ -2.77778000e-01,  -3.33333000e-01,   3.22034000e-01,\n",
       "           5.83333000e-01],\n",
       "        [  8.88889000e-01,  -3.33333000e-01,   9.32203000e-01,\n",
       "           5.83333000e-01],\n",
       "        [  1.11111000e-01,  -4.16667000e-01,   3.22034000e-01,\n",
       "           4.16667000e-01],\n",
       "        [  3.33333000e-01,   8.33333000e-02,   5.93220000e-01,\n",
       "           6.66667000e-01],\n",
       "        [  6.11111000e-01,   0.00000000e+00,   6.94915000e-01,\n",
       "           4.16667000e-01],\n",
       "        [  5.55554000e-02,  -3.33333000e-01,   2.88136000e-01,\n",
       "           4.16667000e-01],\n",
       "        [ -1.32455000e-07,  -1.66667000e-01,   3.22034000e-01,\n",
       "           4.16667000e-01],\n",
       "        [  1.66667000e-01,  -3.33333000e-01,   5.59322000e-01,\n",
       "           6.66667000e-01],\n",
       "        [  6.11111000e-01,  -1.66667000e-01,   6.27119000e-01,\n",
       "           2.50000000e-01],\n",
       "        [  7.22222000e-01,  -3.33333000e-01,   7.28813000e-01,\n",
       "           5.00000000e-01],\n",
       "        [  1.00000000e+00,   5.00000000e-01,   8.30508000e-01,\n",
       "           5.83333000e-01],\n",
       "        [  1.66667000e-01,  -3.33333000e-01,   5.59322000e-01,\n",
       "           7.50000000e-01],\n",
       "        [  1.11111000e-01,  -3.33333000e-01,   3.89830000e-01,\n",
       "           1.66667000e-01],\n",
       "        [ -1.32455000e-07,  -5.00000000e-01,   5.59322000e-01,\n",
       "           8.33333000e-02],\n",
       "        [  8.88889000e-01,  -1.66667000e-01,   7.28813000e-01,\n",
       "           8.33333000e-01],\n",
       "        [  1.11111000e-01,   1.66667000e-01,   5.59322000e-01,\n",
       "           9.16667000e-01],\n",
       "        [  1.66667000e-01,  -8.33334000e-02,   5.25424000e-01,\n",
       "           4.16667000e-01],\n",
       "        [ -5.55556000e-02,  -1.66667000e-01,   2.88136000e-01,\n",
       "           4.16667000e-01],\n",
       "        [  4.44444000e-01,  -8.33334000e-02,   4.91525000e-01,\n",
       "           6.66667000e-01],\n",
       "        [  3.33333000e-01,  -8.33334000e-02,   5.59322000e-01,\n",
       "           9.16667000e-01],\n",
       "        [  4.44444000e-01,  -8.33334000e-02,   3.89830000e-01,\n",
       "           8.33333000e-01],\n",
       "        [ -1.66667000e-01,  -4.16667000e-01,   3.89830000e-01,\n",
       "           5.00000000e-01],\n",
       "        [  3.88889000e-01,   0.00000000e+00,   6.61017000e-01,\n",
       "           8.33333000e-01],\n",
       "        [  3.33333000e-01,   8.33333000e-02,   5.93220000e-01,\n",
       "           1.00000000e+00],\n",
       "        [  3.33333000e-01,  -1.66667000e-01,   4.23729000e-01,\n",
       "           8.33333000e-01],\n",
       "        [  1.11111000e-01,  -5.83333000e-01,   3.55932000e-01,\n",
       "           5.00000000e-01],\n",
       "        [  2.22222000e-01,  -1.66667000e-01,   4.23729000e-01,\n",
       "           5.83333000e-01],\n",
       "        [  5.55554000e-02,   1.66667000e-01,   4.91525000e-01,\n",
       "           8.33333000e-01],\n",
       "        [ -1.11111000e-01,  -1.66667000e-01,   3.89830000e-01,\n",
       "           4.16667000e-01]]),\n",
       " 'target': array([1, 1, 1, 1, 1, 1, 1, 1, 1, 1, 1, 1, 1, 1, 1, 1, 1, 1, 1, 1, 1, 1, 1,\n",
       "        1, 1, 1, 1, 1, 1, 1, 1, 1, 1, 1, 1, 1, 1, 1, 1, 1, 1, 1, 1, 1, 1, 1,\n",
       "        1, 1, 1, 1, 2, 2, 2, 2, 2, 2, 2, 2, 2, 2, 2, 2, 2, 2, 2, 2, 2, 2, 2,\n",
       "        2, 2, 2, 2, 2, 2, 2, 2, 2, 2, 2, 2, 2, 2, 2, 2, 2, 2, 2, 2, 2, 2, 2,\n",
       "        2, 2, 2, 2, 2, 2, 2, 2, 3, 3, 3, 3, 3, 3, 3, 3, 3, 3, 3, 3, 3, 3, 3,\n",
       "        3, 3, 3, 3, 3, 3, 3, 3, 3, 3, 3, 3, 3, 3, 3, 3, 3, 3, 3, 3, 3, 3, 3,\n",
       "        3, 3, 3, 3, 3, 3, 3, 3, 3, 3, 3, 3], dtype=int64)}"
      ]
     },
     "execution_count": 53,
     "metadata": {},
     "output_type": "execute_result"
    }
   ],
   "source": [
    "iris"
   ]
  },
  {
   "cell_type": "code",
   "execution_count": null,
   "metadata": {},
   "outputs": [],
   "source": []
  }
 ],
 "metadata": {
  "kernelspec": {
   "display_name": "Python 3",
   "language": "python",
   "name": "python3"
  },
  "language_info": {
   "codemirror_mode": {
    "name": "ipython",
    "version": 3
   },
   "file_extension": ".py",
   "mimetype": "text/x-python",
   "name": "python",
   "nbconvert_exporter": "python",
   "pygments_lexer": "ipython3",
   "version": "3.6.3"
  }
 },
 "nbformat": 4,
 "nbformat_minor": 2
}
